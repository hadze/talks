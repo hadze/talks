{
  "nbformat": 4,
  "nbformat_minor": 5,
  "metadata": {
    "noteable-chatgpt": {
      "create_notebook": {
        "openai_conversation_id": "a22067f8-dca1-5c5c-a391-b2891c55ed66",
        "openai_ephemeral_user_id": "e544dfa4-5288-5fc3-a780-3fcd568ebbb7",
        "openai_subdivision1_iso_code": "DE-HE"
      }
    },
    "noteable": {
      "last_transaction_id": "5b1b5f55-9149-49b7-83e9-8b9af63724de"
    },
    "selected_hardware_size": "small"
  },
  "cells": [
    {
      "id": "37143239-bffc-46a9-b006-de6234e6ce90",
      "cell_type": "code",
      "metadata": {
        "jupyter": {
          "outputs_hidden": false,
          "source_hidden": false
        },
        "noteable": {
          "cell_type": "code"
        }
      },
      "execution_count": null,
      "source": "",
      "outputs": []
    },
    {
      "id": "bc3dbbfd-1375-4e64-b728-eb29a8faeabd",
      "cell_type": "code",
      "metadata": {
        "jupyter": {
          "outputs_hidden": false,
          "source_hidden": false
        },
        "noteable": {
          "cell_type": "code"
        }
      },
      "execution_count": null,
      "source": "",
      "outputs": []
    },
    {
      "id": "e620acf2-eb44-4e69-9768-4964431e53e8",
      "cell_type": "code",
      "metadata": {
        "noteable": {
          "cell_type": "code",
          "output_collection_id": "4c20dd1e-1aea-4823-a701-d06dd1729338"
        },
        "ExecuteTime": {
          "end_time": "2023-06-11T00:39:34.067891+00:00",
          "start_time": "2023-06-11T00:39:33.694732+00:00"
        }
      },
      "execution_count": null,
      "source": "import requests\nfrom PIL import Image\nfrom io import BytesIO\n\n# URL of the image\nurl = 'https://upload.wikimedia.org/wikipedia/commons/6/63/Wikipedia-logo.png'\n\n# Send a HTTP request to the URL of the image, get the content of the response\nresponse = requests.get(url)\nimg = Image.open(BytesIO(response.content))\nimg.show()",
      "outputs": []
    },
    {
      "id": "0de16fc2-30ca-4bb7-90fb-a34aa591121e",
      "cell_type": "code",
      "metadata": {
        "noteable": {
          "cell_type": "code",
          "output_collection_id": "c9e893a6-ed7a-4e69-a713-fd025b8b256c"
        },
        "ExecuteTime": {
          "end_time": "2023-06-11T00:40:05.163211+00:00",
          "start_time": "2023-06-11T00:40:04.593979+00:00"
        }
      },
      "execution_count": null,
      "source": "from PIL import ImageSequence\n\n# Create a list to store frames\nframes = []\n\n# Create 30 frames\nfor i in range(30):\n    # Resize the image\n    new_img = img.resize((img.width + i * 10, img.height + i * 10))\n\n    # Append to frames\n    frames.append(new_img)\n\n# Save frames as a GIF\nframes[0].save('zoom_in.gif', format='GIF',\n               append_images=frames[1:],\n               save_all=True,\n               duration=100, loop=0)",
      "outputs": []
    },
    {
      "id": "49cd5478-30f2-40bb-bbec-0e793f353036",
      "cell_type": "code",
      "metadata": {
        "noteable": {
          "cell_type": "code",
          "output_collection_id": "ac3eeee6-6a2c-4182-8d71-0bdca1f2431e"
        },
        "ExecuteTime": {
          "end_time": "2023-06-11T00:41:54.131315+00:00",
          "start_time": "2023-06-11T00:41:53.279351+00:00"
        }
      },
      "execution_count": null,
      "source": "# Create a list to store frames\nframes = []\n\n# Create 30 frames for zooming out\nfor i in range(30, 0, -1):\n    # Resize the image\n    new_img = img.resize((img.width * i // 60, img.height * i // 60))\n\n    # Append to frames\n    frames.append(new_img)\n\n# Create 30 frames for zooming in\nfor i in range(30):\n    # Resize the image\n    new_img = img.resize((img.width * i // 60, img.height * i // 60))\n\n    # Append to frames\n    frames.append(new_img)\n\n# Save frames as a GIF\nframes[0].save('zoom_out_in.gif', format='GIF',\n               append_images=frames[1:],\n               save_all=True,\n               duration=100, loop=0)",
      "outputs": []
    },
    {
      "id": "af940fb4-5fae-49b6-99e9-9327cc9e1a4e",
      "cell_type": "code",
      "metadata": {
        "noteable": {
          "cell_type": "code",
          "output_collection_id": "2f031486-ebec-4f51-aae9-e17b094dbc7c"
        },
        "ExecuteTime": {
          "end_time": "2023-06-11T00:46:27.753576+00:00",
          "start_time": "2023-06-11T00:46:27.349935+00:00"
        }
      },
      "execution_count": null,
      "source": "# Create a list to store frames\nframes = []\n\n# Create 30 frames for zooming out\nfor i in range(30, 0, -1):\n    # Resize the image\n    new_img = img.resize((max(img.width * i // 40, 1), max(img.height * i // 40, 1)))\n\n    # Append to frames\n    frames.append(new_img)\n\n# Create 30 frames for zooming in\nfor i in range(30):\n    # Resize the image\n    new_img = img.resize((img.width * (30 + i) // 40, img.height * (30 + i) // 40))\n\n    # Append to frames\n    frames.append(new_img)\nprint('Saving now...')\n# Save frames as a GIF\nframes[0].save('zoom_outin.gif', format='GIF',\n               append_images=frames[1:],\n               save_all=True,\n               duration=100, loop=0)",
      "outputs": []
    },
    {
      "id": "d9788e23-a17a-4362-a9b6-17b0d4dc2b97",
      "cell_type": "code",
      "metadata": {
        "noteable": {
          "cell_type": "code",
          "output_collection_id": "66d2140c-24c4-49d0-8697-b0c1ba35ec8f"
        },
        "ExecuteTime": {
          "end_time": "2023-06-11T00:54:12.461928+00:00",
          "start_time": "2023-06-11T00:54:12.066051+00:00"
        }
      },
      "execution_count": null,
      "source": "# Create a list to store frames\nframes = []\n\n# Create 30 frames for zooming out\nfor i in range(30, 0, -1):\n    # Resize the image\n    new_img = img.resize((max(img.width * i // 40, 1), max(img.height * i // 40, 1)))\n\n    # Crop the image to keep the center part\n    new_img = new_img.crop((new_img.width // 4, new_img.height // 4, 3 * new_img.width // 4, 3 * new_img.height // 4))\n\n    # Append to frames\n    frames.append(new_img)\n\n# Create 30 frames for zooming in\nfor i in range(30):\n    # Resize the image\n    new_img = img.resize((img.width * (30 + i) // 40, img.height * (30 + i) // 40))\n\n    # Crop the image to keep the center part\n    new_img = new_img.crop((new_img.width // 4, new_img.height // 4, 3 * new_img.width // 4, 3 * new_img.height // 4))\n\n    # Append to frames\n    frames.append(new_img)\n\n# Save frames as a GIF\nframes[0].save('zoom_out_in_adapted.gif', format='GIF',\n               append_images=frames[1:],\n               save_all=True,\n               duration=100, loop=0)",
      "outputs": []
    },
    {
      "id": "41c512f5-5e79-4972-9f1c-37a4ad20e1d5",
      "cell_type": "code",
      "metadata": {
        "noteable": {
          "cell_type": "code",
          "output_collection_id": "25a5b867-4c2c-4fac-97bd-b348af5f5fb2"
        },
        "ExecuteTime": {
          "end_time": "2023-06-11T00:59:56.270445+00:00",
          "start_time": "2023-06-11T00:59:55.744896+00:00"
        }
      },
      "execution_count": null,
      "source": "# Create a list to store frames\nframes = []\n\n# Create 30 frames for zooming out\nfor i in range(30, 0, -1):\n    # Resize the image\n    new_img = img.resize((max(img.width * i // 40, 1), max(img.height * i // 40, 1)))\n\n    # Crop the image to keep the center part\n    new_img = new_img.crop((new_img.width // 4, new_img.height // 4, 3 * new_img.width // 4, 3 * new_img.height // 4))\n\n    # Resize the image back to original size\n    new_img = new_img.resize((img.width, img.height))\n\n    # Append to frames\n    frames.append(new_img)\n\n# Create 30 frames for zooming in\nfor i in range(30):\n    # Resize the image\n    new_img = frames[-1].resize((img.width * (30 + i) // 40, img.height * (30 + i) // 40))\n\n    # Crop the image to keep the center part\n    new_img = new_img.crop((new_img.width // 4, new_img.height // 4, 3 * new_img.width // 4, 3 * new_img.height // 4))\n\n    # Resize the image back to original size\n    new_img = new_img.resize((img.width, img.height))\n\n    # Append to frames\n    frames.append(new_img)\n\n# Save frames as a GIF\nframes[0].save('zoom_out_in_adapted_v2.gif', format='GIF',\n               append_images=frames[1:],\n               save_all=True,\n               duration=100, loop=0)",
      "outputs": []
    }
  ]
}