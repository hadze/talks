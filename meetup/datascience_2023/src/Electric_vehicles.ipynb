{
  "nbformat": 4,
  "nbformat_minor": 5,
  "metadata": {
    "selected_hardware_size": "small",
    "noteable": {
      "last_transaction_id": "a462450c-363f-4cdb-aa34-a0e32462ac0a"
    }
  },
  "cells": [
    {
      "id": "dfc1bb9c",
      "cell_type": "code",
      "metadata": {},
      "execution_count": null,
      "source": "",
      "outputs": []
    },
    {
      "id": "afa94df0-c8eb-4232-908d-ff5b17e8f4c3",
      "cell_type": "code",
      "metadata": {
        "noteable": {
          "cell_type": "code",
          "output_collection_id": "13bea99d-bbeb-458a-afa5-c7435a549c21"
        },
        "ExecuteTime": {
          "end_time": "2023-06-11T03:37:19.015461+00:00",
          "start_time": "2023-06-11T03:37:18.413771+00:00"
        },
        "datalink": {
          "080f3413-665d-43d8-b546-2c5a284ca403": {
            "applied_filters": [],
            "dataframe_info": {
              "default_index_used": true,
              "orig_num_cols": 17,
              "orig_num_rows": 5,
              "orig_size_bytes": 720,
              "truncated_num_cols": 17,
              "truncated_num_rows": 5,
              "truncated_size_bytes": 720,
              "truncated_string_columns": []
            },
            "display_id": "080f3413-665d-43d8-b546-2c5a284ca403",
            "dx_settings": {
              "ALLOW_NOTEABLE_ATTRS": true,
              "COLUMN_SAMPLING_METHOD": "outer",
              "DB_LOCATION": ":memory:",
              "DEV_MODE": false,
              "DISPLAY_MAX_COLUMNS": 100,
              "DISPLAY_MAX_ROWS": 50000,
              "DISPLAY_MODE": "simple",
              "ENABLE_ASSIGNMENT": true,
              "ENABLE_DATALINK": true,
              "FLATTEN_COLUMN_VALUES": true,
              "FLATTEN_INDEX_VALUES": false,
              "GENERATE_DEX_METADATA": false,
              "HTML_TABLE_SCHEMA": false,
              "LOG_LEVEL": 30,
              "MAX_RENDER_SIZE_BYTES": 104857600,
              "MAX_STRING_LENGTH": 250,
              "NUM_PAST_SAMPLES_TRACKED": 3,
              "RANDOM_STATE": 12648430,
              "RESET_INDEX_VALUES": false,
              "ROW_SAMPLING_METHOD": "random",
              "SAMPLING_FACTOR": 0.1,
              "SAMPLING_METHOD": "random",
              "STRINGIFY_COLUMN_VALUES": true,
              "STRINGIFY_INDEX_VALUES": false
            },
            "sample_history": [],
            "sampling_time": "2023-06-11T03:37:18.856439",
            "user_variable_name": null,
            "variable_name": "unk_dataframe_11f8200f53ce4f2f9553bfaa8f335507"
          }
        }
      },
      "execution_count": null,
      "source": "import pandas as pd\n\ndf = pd.read_csv('Electric_Vehicle_Population_Data.csv')\n\ndf.head()",
      "outputs": []
    },
    {
      "id": "3e99ba44-7bc7-4c78-9d20-f9796e7b8b54",
      "cell_type": "code",
      "metadata": {
        "noteable": {
          "cell_type": "code",
          "output_collection_id": "55e777f9-ee85-4db5-b432-de21224f07c6"
        },
        "ExecuteTime": {
          "end_time": "2023-06-11T03:37:51.477000+00:00",
          "start_time": "2023-06-11T03:37:50.851069+00:00"
        },
        "datalink": {
          "c463826e-9b74-4a48-b8c7-292658a91a06": {
            "applied_filters": [],
            "dataframe_info": {
              "default_index_used": false,
              "orig_num_cols": 17,
              "orig_num_rows": 11,
              "orig_size_bytes": 1584,
              "truncated_num_cols": 17,
              "truncated_num_rows": 11,
              "truncated_size_bytes": 1584,
              "truncated_string_columns": []
            },
            "display_id": "c463826e-9b74-4a48-b8c7-292658a91a06",
            "dx_settings": {
              "ALLOW_NOTEABLE_ATTRS": true,
              "COLUMN_SAMPLING_METHOD": "outer",
              "DB_LOCATION": ":memory:",
              "DEV_MODE": false,
              "DISPLAY_MAX_COLUMNS": 100,
              "DISPLAY_MAX_ROWS": 50000,
              "DISPLAY_MODE": "simple",
              "ENABLE_ASSIGNMENT": true,
              "ENABLE_DATALINK": true,
              "FLATTEN_COLUMN_VALUES": true,
              "FLATTEN_INDEX_VALUES": false,
              "GENERATE_DEX_METADATA": false,
              "HTML_TABLE_SCHEMA": false,
              "LOG_LEVEL": 30,
              "MAX_RENDER_SIZE_BYTES": 104857600,
              "MAX_STRING_LENGTH": 250,
              "NUM_PAST_SAMPLES_TRACKED": 3,
              "RANDOM_STATE": 12648430,
              "RESET_INDEX_VALUES": false,
              "ROW_SAMPLING_METHOD": "random",
              "SAMPLING_FACTOR": 0.1,
              "SAMPLING_METHOD": "random",
              "STRINGIFY_COLUMN_VALUES": true,
              "STRINGIFY_INDEX_VALUES": false
            },
            "sample_history": [],
            "sampling_time": "2023-06-11T03:37:51.318346",
            "user_variable_name": null,
            "variable_name": "unk_dataframe_16f79ec6e50440d9bdbea58f55c15a8c"
          }
        }
      },
      "execution_count": null,
      "source": "df.info()\ndf.describe(include='all')",
      "outputs": []
    },
    {
      "id": "237c933f-4129-43c5-a2d9-759ecbff91c7",
      "cell_type": "code",
      "metadata": {
        "noteable": {
          "cell_type": "code",
          "output_collection_id": "5e2ba4f5-c3d8-4886-8093-73d087c09da8"
        },
        "ExecuteTime": {
          "end_time": "2023-06-11T03:39:02.275314+00:00",
          "start_time": "2023-06-11T03:38:59.182568+00:00"
        }
      },
      "execution_count": null,
      "source": "import matplotlib.pyplot as plt\nimport seaborn as sns\n\n# Distribution of Electric Vehicle Types\nplt.figure(figsize=(10, 6))\nsns.countplot(x='Electric Vehicle Type', data=df)\nplt.title('Distribution of Electric Vehicle Types')\nplt.show()\n\n# Top 10 Makes\nplt.figure(figsize=(10, 6))\ndf['Make'].value_counts().head(10).plot(kind='bar')\nplt.title('Top 10 Vehicle Makes')\nplt.show()\n\n# Distribution of Model Years\nplt.figure(figsize=(10, 6))\nsns.histplot(df['Model Year'], kde=False, bins=30)\nplt.title('Distribution of Model Years')\nplt.show()",
      "outputs": []
    },
    {
      "id": "7b9dd4cf-dd3e-4966-be42-c1aa94e23b74",
      "cell_type": "code",
      "metadata": {
        "noteable": {
          "cell_type": "code",
          "output_collection_id": "5acdf353-7489-4cea-9fa6-4bbbff8c6ddb"
        },
        "ExecuteTime": {
          "end_time": "2023-06-11T03:41:16.991916+00:00",
          "start_time": "2023-06-11T03:41:15.909775+00:00"
        }
      },
      "execution_count": null,
      "source": "import geopandas as gpd\nfrom shapely import wkt\n\n# Convert the 'Vehicle Location' column to a GeoSeries\ndf['Vehicle Location'] = df['Vehicle Location'].apply(wkt.loads)\ngdf = gpd.GeoDataFrame(df, geometry='Vehicle Location')\n\n# Plot the data\nworld = gpd.read_file(gpd.datasets.get_path('naturalearth_lowres'))\nfig, ax = plt.subplots(1, 1)\nworld[world.name == 'United States'].plot(ax=ax, color='white', edgecolor='black')\ngdf.plot(ax=ax, color='red')\nplt.show()",
      "outputs": []
    },
    {
      "id": "5537082e-66f5-4376-8a5e-6238f6010d23",
      "cell_type": "code",
      "metadata": {
        "noteable": {
          "cell_type": "code",
          "output_collection_id": "c152c03e-8ded-41df-822b-22cfc41199b3"
        },
        "ExecuteTime": {
          "end_time": "2023-06-11T03:41:30.536515+00:00",
          "start_time": "2023-06-11T03:41:30.351752+00:00"
        },
        "datalink": {
          "4805a9c1-c77f-4695-9d1e-fa905bad735e": {
            "applied_filters": [],
            "dataframe_info": {
              "default_index_used": true,
              "orig_num_cols": 1,
              "orig_num_rows": 5,
              "orig_size_bytes": 80,
              "truncated_num_cols": 1,
              "truncated_num_rows": 5,
              "truncated_size_bytes": 80,
              "truncated_string_columns": []
            },
            "display_id": "4805a9c1-c77f-4695-9d1e-fa905bad735e",
            "dx_settings": {
              "ALLOW_NOTEABLE_ATTRS": true,
              "COLUMN_SAMPLING_METHOD": "outer",
              "DB_LOCATION": ":memory:",
              "DEV_MODE": false,
              "DISPLAY_MAX_COLUMNS": 100,
              "DISPLAY_MAX_ROWS": 50000,
              "DISPLAY_MODE": "simple",
              "ENABLE_ASSIGNMENT": true,
              "ENABLE_DATALINK": true,
              "FLATTEN_COLUMN_VALUES": true,
              "FLATTEN_INDEX_VALUES": false,
              "GENERATE_DEX_METADATA": false,
              "HTML_TABLE_SCHEMA": false,
              "LOG_LEVEL": 30,
              "MAX_RENDER_SIZE_BYTES": 104857600,
              "MAX_STRING_LENGTH": 250,
              "NUM_PAST_SAMPLES_TRACKED": 3,
              "RANDOM_STATE": 12648430,
              "RESET_INDEX_VALUES": false,
              "ROW_SAMPLING_METHOD": "random",
              "SAMPLING_FACTOR": 0.1,
              "SAMPLING_METHOD": "random",
              "STRINGIFY_COLUMN_VALUES": true,
              "STRINGIFY_INDEX_VALUES": false
            },
            "sample_history": [],
            "sampling_time": "2023-06-11T03:41:30.380975",
            "user_variable_name": null,
            "variable_name": "unk_dataframe_f3ad8988e7cf4189ae8ffb40f9df1028"
          }
        }
      },
      "execution_count": null,
      "source": "df['Vehicle Location'].head()",
      "outputs": []
    },
    {
      "id": "9ddf80a7-a97d-473f-908d-588102d897a0",
      "cell_type": "code",
      "metadata": {
        "noteable": {
          "cell_type": "code",
          "output_collection_id": "07062f00-c627-4559-a432-2a68316ca0cd"
        },
        "ExecuteTime": {
          "end_time": "2023-06-11T03:41:57.124184+00:00",
          "start_time": "2023-06-11T03:41:54.317932+00:00"
        },
        "datalink": {
          "6d8d7186-546c-46e2-bcab-e1fd3e649d6c": {
            "applied_filters": [],
            "dataframe_info": {
              "default_index_used": true,
              "orig_num_cols": 1,
              "orig_num_rows": 5,
              "orig_size_bytes": 80,
              "truncated_num_cols": 1,
              "truncated_num_rows": 5,
              "truncated_size_bytes": 80,
              "truncated_string_columns": []
            },
            "display_id": "6d8d7186-546c-46e2-bcab-e1fd3e649d6c",
            "dx_settings": {
              "ALLOW_NOTEABLE_ATTRS": true,
              "COLUMN_SAMPLING_METHOD": "outer",
              "DB_LOCATION": ":memory:",
              "DEV_MODE": false,
              "DISPLAY_MAX_COLUMNS": 100,
              "DISPLAY_MAX_ROWS": 50000,
              "DISPLAY_MODE": "simple",
              "ENABLE_ASSIGNMENT": true,
              "ENABLE_DATALINK": true,
              "FLATTEN_COLUMN_VALUES": true,
              "FLATTEN_INDEX_VALUES": false,
              "GENERATE_DEX_METADATA": false,
              "HTML_TABLE_SCHEMA": false,
              "LOG_LEVEL": 30,
              "MAX_RENDER_SIZE_BYTES": 104857600,
              "MAX_STRING_LENGTH": 250,
              "NUM_PAST_SAMPLES_TRACKED": 3,
              "RANDOM_STATE": 12648430,
              "RESET_INDEX_VALUES": false,
              "ROW_SAMPLING_METHOD": "random",
              "SAMPLING_FACTOR": 0.1,
              "SAMPLING_METHOD": "random",
              "STRINGIFY_COLUMN_VALUES": true,
              "STRINGIFY_INDEX_VALUES": false
            },
            "sample_history": [],
            "sampling_time": "2023-06-11T03:41:56.967796",
            "user_variable_name": null,
            "variable_name": "unk_dataframe_627a56acbf1d4976aa6e3cca0b82be2e"
          }
        }
      },
      "execution_count": null,
      "source": "# Remove rows with missing 'Vehicle Location' data\ndf = df.dropna(subset=['Vehicle Location'])\n\n# Try to convert the 'Vehicle Location' column to a GeoSeries again\ntry:\n    df['Vehicle Location'] = df['Vehicle Location'].apply(wkt.loads)\nexcept Exception as e:\n    print(f'Error: {e}')\n\ndf['Vehicle Location'].head()",
      "outputs": []
    },
    {
      "id": "acd30118-20ac-4c73-b368-71afaa79cafb",
      "cell_type": "code",
      "metadata": {
        "noteable": {
          "cell_type": "code",
          "output_collection_id": "218d2f0b-fd19-4589-8c1f-e63804087a4d"
        },
        "ExecuteTime": {
          "end_time": "2023-06-11T03:42:45.307586+00:00",
          "start_time": "2023-06-11T03:42:33.279982+00:00"
        }
      },
      "execution_count": null,
      "source": "gdf = gpd.GeoDataFrame(df, geometry='Vehicle Location')\n\n# Plot the data\nworld = gpd.read_file(gpd.datasets.get_path('naturalearth_lowres'))\nfig, ax = plt.subplots(1, 1)\nworld[world.name == 'United States'].plot(ax=ax, color='white', edgecolor='black')\ngdf.plot(ax=ax, color='red')\nplt.show()",
      "outputs": []
    },
    {
      "id": "ef857828-9e96-4b1d-82ad-102b209cd86f",
      "cell_type": "code",
      "metadata": {
        "noteable": {
          "cell_type": "code",
          "output_collection_id": "1a813c7b-c14b-4343-ba99-8063fa993709"
        },
        "ExecuteTime": {
          "end_time": "2023-06-11T03:43:05.928008+00:00",
          "start_time": "2023-06-11T03:43:04.617281+00:00"
        }
      },
      "execution_count": null,
      "source": "top_models_per_city = df.groupby('City')['Model'].apply(lambda x: x.value_counts().head(5))\ntop_models_per_city",
      "outputs": []
    },
    {
      "id": "b21f2d47-1d7f-45a9-a9b7-37ec3fb8e360",
      "cell_type": "code",
      "metadata": {
        "noteable": {
          "cell_type": "code",
          "output_collection_id": "adb6aed6-a4d3-43da-bff4-f816ac02d4af"
        },
        "ExecuteTime": {
          "end_time": "2023-06-11T03:43:29.248630+00:00",
          "start_time": "2023-06-11T03:43:28.417405+00:00"
        }
      },
      "execution_count": null,
      "source": "# Remove rows with missing 'City' data\ndf = df.dropna(subset=['City'])\n\n# Try to get the top 5 most popular electric vehicle models in each city again\ntry:\n    top_models_per_city = df.groupby('City')['Model'].apply(lambda x: x.value_counts().head(5))\nexcept Exception as e:\n    print(f'Error: {e}')\n\ntop_models_per_city",
      "outputs": []
    },
    {
      "id": "41883737-8a62-462d-8024-0a4f80773e9c",
      "cell_type": "code",
      "metadata": {
        "noteable": {
          "cell_type": "code",
          "output_collection_id": "2f41f941-3262-4907-89b6-42609b3f5927"
        },
        "ExecuteTime": {
          "end_time": "2023-06-11T03:43:54.872778+00:00",
          "start_time": "2023-06-11T03:43:53.778424+00:00"
        },
        "datalink": {
          "44653edc-6328-49d9-a8e9-070578941ccf": {
            "applied_filters": [],
            "dataframe_info": {
              "default_index_used": true,
              "orig_num_cols": 3,
              "orig_num_rows": 2119,
              "orig_size_bytes": 67808,
              "truncated_num_cols": 3,
              "truncated_num_rows": 2119,
              "truncated_size_bytes": 67808,
              "truncated_string_columns": []
            },
            "display_id": "44653edc-6328-49d9-a8e9-070578941ccf",
            "dx_settings": {
              "ALLOW_NOTEABLE_ATTRS": true,
              "COLUMN_SAMPLING_METHOD": "outer",
              "DB_LOCATION": ":memory:",
              "DEV_MODE": false,
              "DISPLAY_MAX_COLUMNS": 100,
              "DISPLAY_MAX_ROWS": 50000,
              "DISPLAY_MODE": "simple",
              "ENABLE_ASSIGNMENT": true,
              "ENABLE_DATALINK": true,
              "FLATTEN_COLUMN_VALUES": true,
              "FLATTEN_INDEX_VALUES": false,
              "GENERATE_DEX_METADATA": false,
              "HTML_TABLE_SCHEMA": false,
              "LOG_LEVEL": 30,
              "MAX_RENDER_SIZE_BYTES": 104857600,
              "MAX_STRING_LENGTH": 250,
              "NUM_PAST_SAMPLES_TRACKED": 3,
              "RANDOM_STATE": 12648430,
              "RESET_INDEX_VALUES": false,
              "ROW_SAMPLING_METHOD": "random",
              "SAMPLING_FACTOR": 0.1,
              "SAMPLING_METHOD": "random",
              "STRINGIFY_COLUMN_VALUES": true,
              "STRINGIFY_INDEX_VALUES": false
            },
            "sample_history": [],
            "sampling_time": "2023-06-11T03:43:54.707935",
            "user_variable_name": "top_models_per_city",
            "variable_name": "top_models_per_city"
          }
        },
        "dx": {
          "dashboard": {
            "multiViews": []
          },
          "fieldMetadata": {
            "City": {
              "columnPosition": 2
            },
            "Counts": {
              "columnPosition": 4,
              "sort": "asc"
            },
            "Model": {
              "columnPosition": 3
            },
            "index": {
              "columnPosition": 1
            }
          },
          "updated": 1686455128191,
          "views": [
            {
              "annotationRules": [],
              "chart": {},
              "chartMode": "grid",
              "confoRules": [],
              "decoration": {
                "footer": "",
                "subtitle": "",
                "title": "Table"
              },
              "facets": [],
              "filterSettings": {
                "SHOW_FILTER_PANEL": true,
                "filters": []
              },
              "id": "first-view",
              "isDefault": true,
              "type": "public",
              "userID": ""
            },
            {
              "annotationRules": [],
              "chart": {},
              "chartMode": "grid",
              "confoRules": [],
              "decoration": {
                "footer": "",
                "subtitle": "",
                "title": "Table"
              },
              "facets": [],
              "filterSettings": {
                "SHOW_FILTER_PANEL": true,
                "filters": []
              },
              "id": "first-view",
              "isDefault": true,
              "isTransitory": true,
              "type": "public",
              "userID": ""
            }
          ]
        }
      },
      "execution_count": null,
      "source": "top_models_per_city = df.groupby(['City', 'Model']).size().reset_index(name='Counts')\ntop_models_per_city = top_models_per_city.groupby('City').apply(lambda x: x.nlargest(5, 'Counts')).reset_index(drop=True)\ntop_models_per_city",
      "outputs": []
    }
  ]
}